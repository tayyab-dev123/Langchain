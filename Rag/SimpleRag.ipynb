{
 "cells": [
  {
   "cell_type": "code",
   "execution_count": 1,
   "metadata": {},
   "outputs": [],
   "source": [
    "# !pip install -r requirements.txt\n",
    "import os\n",
    "from dotenv import load_dotenv # type: ignore\n",
    "from langchain_groq import ChatGroq # type: ignore\n",
    "from langchain_core.prompts.chat import ChatPromptTemplate # type: ignore\n",
    "from langchain_community.document_loaders import TextLoader # type: ignore\n"
   ]
  },
  {
   "cell_type": "code",
   "execution_count": 2,
   "metadata": {},
   "outputs": [],
   "source": [
    "# Load the environment variable\n",
    "load_dotenv()\n",
    "groq_api_key = os.getenv(\"GROQ_API_KEY\")\n",
    "os.environ[\"LANGCHAIN_TRACING_V2\"] = \"true\"\n",
    "os.environ[\"LANGCHAIN_API_KEY\"] = os.getenv(\"LANGCHAIN_API_KEY\")\n",
    "os.environ['inference_api_key'] = os.getenv('inference_api_key')"
   ]
  },
  {
   "cell_type": "code",
   "execution_count": 3,
   "metadata": {},
   "outputs": [
    {
     "data": {
      "text/plain": [
       "[Document(page_content='The world must be made safe for democracy....\\nIt is a fearful thing to lead this great peaceful people into war, into the most terrible and\\ndisastrous of all wars, civilization itself seeming to be in the balance. But the right is more\\nprecious than peace, and we shall fight for the things which we have always carried nearest to\\nour hearts for democracy, for the right of those who submit to authority to have a voice in their\\nown governments, for the rights and liberties of small nations, for a universal dominion of right\\nby such a concert of free peoples as shall bring peace and safety to all nations and make the\\nworld itself at last free. To such a task we can dedicate our lives and our fortunes, everything\\nthat we are and everything that we have, with the pride of those who know that the day has come\\nwhen America is privileged to spend her blood and her might for the principles that gave her\\nbirth and happiness and the peace which she has treasured. God helping her, she can do no\\nother. ', metadata={'source': 'speech.txt'})]"
      ]
     },
     "execution_count": 3,
     "metadata": {},
     "output_type": "execute_result"
    }
   ],
   "source": [
    "loader = TextLoader(\"speech.txt\")\n",
    "text_data = loader.load()\n",
    "text_data"
   ]
  },
  {
   "cell_type": "code",
   "execution_count": 4,
   "metadata": {},
   "outputs": [],
   "source": [
    "#Web based loader\n",
    "from langchain_community.document_loaders import WebBaseLoader\n",
    "import bs4 \n",
    "loader = WebBaseLoader(web_path=('https://lilianweng.github.io/posts/2023-06-23-agent/'), bs_kwargs=dict(parse_only=bs4.SoupStrainer(\n",
    "    class_=('post-title','post-content','agent-system-overview')\n",
    ")))\n",
    "\n",
    "text_data=loader.load()"
   ]
  },
  {
   "cell_type": "code",
   "execution_count": null,
   "metadata": {},
   "outputs": [],
   "source": []
  },
  {
   "cell_type": "code",
   "execution_count": 5,
   "metadata": {},
   "outputs": [],
   "source": [
    "from langchain_community.document_loaders import PyPDFLoader\n",
    "loader = PyPDFLoader('Jinnah.pdf')\n",
    "docs=loader.load()"
   ]
  },
  {
   "cell_type": "code",
   "execution_count": 6,
   "metadata": {},
   "outputs": [],
   "source": [
    "from langchain_text_splitters import RecursiveCharacterTextSplitter\n",
    "text_splitter = RecursiveCharacterTextSplitter(chunk_size=1000, chunk_overlap=200)\n",
    "documents = text_splitter.split_documents(docs)\n",
    "\n"
   ]
  },
  {
   "cell_type": "code",
   "execution_count": 11,
   "metadata": {},
   "outputs": [],
   "source": [
    "from langchain_community.vectorstores  import Chroma\n",
    "from langchain_community.embeddings import  GPT4AllEmbeddings\n",
    "db = Chroma.from_documents(documents[:20],  GPT4AllEmbeddings(model_name = \"all-MiniLM-L6-v2.gguf2.f16.gguf\"))"
   ]
  },
  {
   "cell_type": "code",
   "execution_count": 12,
   "metadata": {},
   "outputs": [
    {
     "data": {
      "text/plain": [
       "\"country. Accordin g to his biographe r, Stanley Wolpert ,\\nJinnah remains Pakistan's greatest leader.\\nJinnah's given name at\\nbirth was Mahomedali\\nJinnahbhai, and he likely\\nwas born in 1876,[b] to\\nJinnahbhai Poonja  and his\\nwife Mithibai, in a rented\\napartment on the second\\nfloor of Wazir Mansion  near  Karachi,[1] now  in Sindh , Pakistan, but then\\nwithin the Bombay Presidency  of British India . Jinnah's paternal\\ngrandfather lived in Gondal state in Kathiawar  peninsul a (now in Gujarat ,\\nIndia).[2][3] Jinnah was a Khoja  of Nizari Isma'ili  Shia Muslim\\nbackground from Gujarat, though he later followed the Twelver  Shi'a\\nteachings.[4] After his death, his relatives and other witnesses claimed\\nthat he had converted in later life to the Sunni  sect of Islam .[2]\\nJinnah was from a wealthy merchant background. His father was a merch ant and was born to a family\\nof textile weavers in the village of Paneli in the princely state of Gondal; his mother was from the\""
      ]
     },
     "execution_count": 12,
     "metadata": {},
     "output_type": "execute_result"
    }
   ],
   "source": [
    "# from langchain_community.vectorstores  import Chroma\n",
    "# from langchain_community.embeddings import  OllamaEmbeddings\n",
    "# db1 = Chroma.from_documents(documents[:20],  OllamaEmbeddings(model=\"gemma:2b\"))\n",
    "\n",
    "qurey = 'What was the birth name of Jinnah'\n",
    "result = db.similarity_search(qurey)\n",
    "result[0].page_content"
   ]
  },
  {
   "cell_type": "code",
   "execution_count": 17,
   "metadata": {},
   "outputs": [],
   "source": [
    "from langchain_community.vectorstores import FAISS\n",
    "db1 = FAISS.from_documents(documents[:20], GPT4AllEmbeddings(model_name=\"all-MiniLM-L6-v2.gguf2.f16.gguf\"))"
   ]
  },
  {
   "cell_type": "code",
   "execution_count": 18,
   "metadata": {},
   "outputs": [
    {
     "data": {
      "text/plain": [
       "\"country. Accordin g to his biographe r, Stanley Wolpert ,\\nJinnah remains Pakistan's greatest leader.\\nJinnah's given name at\\nbirth was Mahomedali\\nJinnahbhai, and he likely\\nwas born in 1876,[b] to\\nJinnahbhai Poonja  and his\\nwife Mithibai, in a rented\\napartment on the second\\nfloor of Wazir Mansion  near  Karachi,[1] now  in Sindh , Pakistan, but then\\nwithin the Bombay Presidency  of British India . Jinnah's paternal\\ngrandfather lived in Gondal state in Kathiawar  peninsul a (now in Gujarat ,\\nIndia).[2][3] Jinnah was a Khoja  of Nizari Isma'ili  Shia Muslim\\nbackground from Gujarat, though he later followed the Twelver  Shi'a\\nteachings.[4] After his death, his relatives and other witnesses claimed\\nthat he had converted in later life to the Sunni  sect of Islam .[2]\\nJinnah was from a wealthy merchant background. His father was a merch ant and was born to a family\\nof textile weavers in the village of Paneli in the princely state of Gondal; his mother was from the\""
      ]
     },
     "execution_count": 18,
     "metadata": {},
     "output_type": "execute_result"
    }
   ],
   "source": [
    "qurey = 'What was the birth name of Jinnah'\n",
    "result = db1.similarity_search(qurey)\n",
    "result[0].page_content"
   ]
  },
  {
   "cell_type": "code",
   "execution_count": null,
   "metadata": {},
   "outputs": [],
   "source": []
  }
 ],
 "metadata": {
  "kernelspec": {
   "display_name": "Python 3",
   "language": "python",
   "name": "python3"
  },
  "language_info": {
   "codemirror_mode": {
    "name": "ipython",
    "version": 3
   },
   "file_extension": ".py",
   "mimetype": "text/x-python",
   "name": "python",
   "nbconvert_exporter": "python",
   "pygments_lexer": "ipython3",
   "version": "3.11.9"
  }
 },
 "nbformat": 4,
 "nbformat_minor": 2
}
